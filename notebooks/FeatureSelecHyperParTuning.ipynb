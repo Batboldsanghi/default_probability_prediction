{
 "cells": [
  {
   "cell_type": "code",
   "execution_count": 1,
   "id": "9f90b324",
   "metadata": {},
   "outputs": [],
   "source": [
    "import pandas as pd # package for high-performance, easy-to-use data structures and data analysis\n",
    "import numpy as np # fundamental package for scientific computing with Python\n",
    "\n",
    "import matplotlib.pyplot as plt # for plotting\n",
    "import seaborn as sns # for making plots with seaborn\n",
    "import warnings\n",
    "warnings.filterwarnings(\"ignore\")\n",
    "\n",
    "%matplotlib inline"
   ]
  },
  {
   "cell_type": "code",
   "execution_count": 15,
   "id": "ce21e549",
   "metadata": {},
   "outputs": [],
   "source": [
    "from sklearn.model_selection import train_test_split\n",
    "from sklearn.preprocessing import MinMaxScaler\n",
    "\n",
    "from sklearn.feature_selection import RFE\n",
    "from sklearn.linear_model import LogisticRegression\n",
    "from catboost import CatBoostClassifier\n",
    "from sklearn.model_selection import RandomizedSearchCV, GridSearchCV, StratifiedKFold"
   ]
  },
  {
   "cell_type": "markdown",
   "id": "50fb0a32",
   "metadata": {},
   "source": [
    "# Feature Selection"
   ]
  },
  {
   "cell_type": "markdown",
   "id": "97e057ad",
   "metadata": {},
   "source": [
    "First, we check feautures RFE ranking using Logistic regression and Catboost Classifier. The reasonable values are chosen for hyperparameters."
   ]
  },
  {
   "cell_type": "markdown",
   "id": "2df252b3",
   "metadata": {},
   "source": [
    "## RFE ranking"
   ]
  },
  {
   "cell_type": "code",
   "execution_count": 7,
   "id": "50d3f3cc",
   "metadata": {},
   "outputs": [],
   "source": [
    "df = pd.read_parquet('data_5nullremoved/df_all_boolean12.parquet')"
   ]
  },
  {
   "cell_type": "code",
   "execution_count": 4,
   "id": "93e75f37",
   "metadata": {},
   "outputs": [],
   "source": [
    "df_tmp = df.copy()\n",
    "df_tmp = df_tmp.sample(frac=1).reset_index(drop=True)"
   ]
  },
  {
   "cell_type": "code",
   "execution_count": 6,
   "id": "188e531d",
   "metadata": {},
   "outputs": [],
   "source": [
    "X = df_tmp.drop('default', axis=1)\n",
    "y = df_tmp.default\n",
    "columns = X.columns.tolist()\n",
    "\n",
    "X_train, X_test, y_train, y_test = train_test_split(X, y, test_size=0.3,random_state=42,stratify=y)\n",
    "\n",
    "scaler = MinMaxScaler()\n",
    "scaler.fit(X_train)\n",
    "\n",
    "X_train_mm = scaler.transform(X_train)\n",
    "X_test_mm = scaler.transform(X_test)\n",
    "X_mm = scaler.transform(X)\n",
    "\n",
    "X_train = pd.DataFrame(X_train_mm, columns=columns)\n",
    "X_test = pd.DataFrame(X_test_mm, columns=columns)\n",
    "X = pd.DataFrame(X_mm, columns=columns)"
   ]
  },
  {
   "cell_type": "code",
   "execution_count": 8,
   "id": "0b988dfa",
   "metadata": {},
   "outputs": [],
   "source": [
    "logreg = LogisticRegression(penalty='l1',C=10.0,verbose=0,max_iter=100,\n",
    "    class_weight=None, random_state=41, solver='liblinear')\n",
    "\n",
    "rfe_logreg = RFE(logreg,n_features_to_select=10)\n",
    "\n",
    "rfe_logreg = rfe_logreg.fit(X, y)\n",
    "\n",
    "df_rfe_logreg = pd.DataFrame(columns=[\"feature\",\"ranking\"])\n",
    "df_rfe_logreg['feature'] = columns\n",
    "df_rfe_logreg['ranking'] = rfe_logreg.ranking_\n",
    "df_rfe_logreg = df_rfe_logreg.sort_values(by=\"ranking\")"
   ]
  },
  {
   "cell_type": "code",
   "execution_count": 10,
   "id": "2f7c4098",
   "metadata": {},
   "outputs": [],
   "source": [
    "catboost = CatBoostClassifier(border_count=70,\n",
    "        class_weights={0.0: 1.0, 1.0: 1.0},\n",
    "        depth=10, iterations=1000,    \n",
    "        l2_leaf_reg = 10,\n",
    "        learning_rate = 0.01,\n",
    "        loss_function='Logloss',\n",
    "        verbose=0)\n",
    "\n",
    "rfe_cb = RFE(catboost,n_features_to_select=10)\n",
    "rfe_cb = rfe_cb.fit(X, y)"
   ]
  },
  {
   "cell_type": "code",
   "execution_count": 11,
   "id": "203d0211",
   "metadata": {},
   "outputs": [],
   "source": [
    "df_rfe_cb = pd.DataFrame(columns=[\"feature\",\"ranking\"])\n",
    "df_rfe_cb['feature'] = columns\n",
    "df_rfe_cb['ranking'] = rfe_cb.ranking_\n",
    "df_rfe_cb = df_rfe_cb.sort_values(by=\"ranking\")\n",
    "\n",
    "df_rfe_cb.columns = ['feature', 'cb']\n",
    "df_rfe_logreg.columns = ['feature', 'log']\n",
    "\n",
    "df_rfe=pd.merge(df_rfe_cb,df_rfe_logreg)"
   ]
  },
  {
   "cell_type": "code",
   "execution_count": 12,
   "id": "c3a23708",
   "metadata": {},
   "outputs": [
    {
     "data": {
      "text/html": [
       "<div>\n",
       "<style scoped>\n",
       "    .dataframe tbody tr th:only-of-type {\n",
       "        vertical-align: middle;\n",
       "    }\n",
       "\n",
       "    .dataframe tbody tr th {\n",
       "        vertical-align: top;\n",
       "    }\n",
       "\n",
       "    .dataframe thead th {\n",
       "        text-align: right;\n",
       "    }\n",
       "</style>\n",
       "<table border=\"1\" class=\"dataframe\">\n",
       "  <thead>\n",
       "    <tr style=\"text-align: right;\">\n",
       "      <th></th>\n",
       "      <th>feature</th>\n",
       "      <th>cb</th>\n",
       "      <th>log</th>\n",
       "    </tr>\n",
       "  </thead>\n",
       "  <tbody>\n",
       "    <tr>\n",
       "      <th>0</th>\n",
       "      <td>age</td>\n",
       "      <td>1</td>\n",
       "      <td>5</td>\n",
       "    </tr>\n",
       "    <tr>\n",
       "      <th>1</th>\n",
       "      <td>max_paid_inv_0_24m</td>\n",
       "      <td>1</td>\n",
       "      <td>1</td>\n",
       "    </tr>\n",
       "    <tr>\n",
       "      <th>2</th>\n",
       "      <td>sum_capital_paid_account_0_12m</td>\n",
       "      <td>1</td>\n",
       "      <td>1</td>\n",
       "    </tr>\n",
       "    <tr>\n",
       "      <th>3</th>\n",
       "      <td>num_unpaid_bills</td>\n",
       "      <td>1</td>\n",
       "      <td>3</td>\n",
       "    </tr>\n",
       "    <tr>\n",
       "      <th>4</th>\n",
       "      <td>status_max_archived_0_24_months</td>\n",
       "      <td>1</td>\n",
       "      <td>10</td>\n",
       "    </tr>\n",
       "    <tr>\n",
       "      <th>5</th>\n",
       "      <td>sum_paid_inv_0_12m</td>\n",
       "      <td>1</td>\n",
       "      <td>7</td>\n",
       "    </tr>\n",
       "    <tr>\n",
       "      <th>6</th>\n",
       "      <td>num_arch_ok_0_12m</td>\n",
       "      <td>1</td>\n",
       "      <td>1</td>\n",
       "    </tr>\n",
       "    <tr>\n",
       "      <th>7</th>\n",
       "      <td>account_incoming_debt_vs_paid_0_24m</td>\n",
       "      <td>1</td>\n",
       "      <td>36</td>\n",
       "    </tr>\n",
       "    <tr>\n",
       "      <th>8</th>\n",
       "      <td>new_merchant_group</td>\n",
       "      <td>1</td>\n",
       "      <td>13</td>\n",
       "    </tr>\n",
       "    <tr>\n",
       "      <th>9</th>\n",
       "      <td>num_arch_ok_12_24m</td>\n",
       "      <td>1</td>\n",
       "      <td>1</td>\n",
       "    </tr>\n",
       "    <tr>\n",
       "      <th>10</th>\n",
       "      <td>account_worst_status_0_3m</td>\n",
       "      <td>2</td>\n",
       "      <td>2</td>\n",
       "    </tr>\n",
       "    <tr>\n",
       "      <th>11</th>\n",
       "      <td>boolean_status_max_archived_0_6_months</td>\n",
       "      <td>3</td>\n",
       "      <td>28</td>\n",
       "    </tr>\n",
       "    <tr>\n",
       "      <th>12</th>\n",
       "      <td>max_paid_inv_0_12m</td>\n",
       "      <td>4</td>\n",
       "      <td>1</td>\n",
       "    </tr>\n",
       "    <tr>\n",
       "      <th>13</th>\n",
       "      <td>worst_status_active_inv</td>\n",
       "      <td>5</td>\n",
       "      <td>22</td>\n",
       "    </tr>\n",
       "    <tr>\n",
       "      <th>14</th>\n",
       "      <td>status_max_archived_0_6_months</td>\n",
       "      <td>6</td>\n",
       "      <td>35</td>\n",
       "    </tr>\n",
       "    <tr>\n",
       "      <th>15</th>\n",
       "      <td>sum_capital_paid_account_12_24m</td>\n",
       "      <td>7</td>\n",
       "      <td>23</td>\n",
       "    </tr>\n",
       "    <tr>\n",
       "      <th>16</th>\n",
       "      <td>num_active_inv</td>\n",
       "      <td>8</td>\n",
       "      <td>1</td>\n",
       "    </tr>\n",
       "    <tr>\n",
       "      <th>17</th>\n",
       "      <td>status_last_archived_0_24m</td>\n",
       "      <td>9</td>\n",
       "      <td>6</td>\n",
       "    </tr>\n",
       "    <tr>\n",
       "      <th>18</th>\n",
       "      <td>status_3rd_last_archived_0_24m</td>\n",
       "      <td>10</td>\n",
       "      <td>14</td>\n",
       "    </tr>\n",
       "    <tr>\n",
       "      <th>19</th>\n",
       "      <td>account_days_in_rem_12_24m</td>\n",
       "      <td>11</td>\n",
       "      <td>21</td>\n",
       "    </tr>\n",
       "    <tr>\n",
       "      <th>20</th>\n",
       "      <td>status_2nd_last_archived_0_24m</td>\n",
       "      <td>12</td>\n",
       "      <td>19</td>\n",
       "    </tr>\n",
       "    <tr>\n",
       "      <th>21</th>\n",
       "      <td>account_worst_status_3_6m</td>\n",
       "      <td>13</td>\n",
       "      <td>26</td>\n",
       "    </tr>\n",
       "    <tr>\n",
       "      <th>22</th>\n",
       "      <td>account_amount_added_12_24m</td>\n",
       "      <td>14</td>\n",
       "      <td>32</td>\n",
       "    </tr>\n",
       "    <tr>\n",
       "      <th>23</th>\n",
       "      <td>status_max_archived_0_12_months</td>\n",
       "      <td>15</td>\n",
       "      <td>30</td>\n",
       "    </tr>\n",
       "    <tr>\n",
       "      <th>24</th>\n",
       "      <td>boolean_worst_status_active_inv</td>\n",
       "      <td>16</td>\n",
       "      <td>34</td>\n",
       "    </tr>\n",
       "    <tr>\n",
       "      <th>25</th>\n",
       "      <td>account_worst_status_6_12m</td>\n",
       "      <td>17</td>\n",
       "      <td>11</td>\n",
       "    </tr>\n",
       "    <tr>\n",
       "      <th>26</th>\n",
       "      <td>account_status</td>\n",
       "      <td>18</td>\n",
       "      <td>9</td>\n",
       "    </tr>\n",
       "    <tr>\n",
       "      <th>27</th>\n",
       "      <td>num_arch_rem_0_12m</td>\n",
       "      <td>19</td>\n",
       "      <td>1</td>\n",
       "    </tr>\n",
       "    <tr>\n",
       "      <th>28</th>\n",
       "      <td>boolean_status_3rd_last_archived_0_24m</td>\n",
       "      <td>20</td>\n",
       "      <td>15</td>\n",
       "    </tr>\n",
       "    <tr>\n",
       "      <th>29</th>\n",
       "      <td>account_worst_status_12_24m</td>\n",
       "      <td>21</td>\n",
       "      <td>17</td>\n",
       "    </tr>\n",
       "    <tr>\n",
       "      <th>30</th>\n",
       "      <td>num_arch_dc_12_24m</td>\n",
       "      <td>22</td>\n",
       "      <td>1</td>\n",
       "    </tr>\n",
       "    <tr>\n",
       "      <th>31</th>\n",
       "      <td>boolean_status_2nd_last_archived_0_24m</td>\n",
       "      <td>23</td>\n",
       "      <td>20</td>\n",
       "    </tr>\n",
       "    <tr>\n",
       "      <th>32</th>\n",
       "      <td>num_arch_dc_0_12m</td>\n",
       "      <td>24</td>\n",
       "      <td>1</td>\n",
       "    </tr>\n",
       "    <tr>\n",
       "      <th>33</th>\n",
       "      <td>boolean_account_worst_status_3_6m</td>\n",
       "      <td>25</td>\n",
       "      <td>25</td>\n",
       "    </tr>\n",
       "    <tr>\n",
       "      <th>34</th>\n",
       "      <td>boolean_account_worst_status_6_12m</td>\n",
       "      <td>26</td>\n",
       "      <td>12</td>\n",
       "    </tr>\n",
       "    <tr>\n",
       "      <th>35</th>\n",
       "      <td>boolean_account_status</td>\n",
       "      <td>27</td>\n",
       "      <td>27</td>\n",
       "    </tr>\n",
       "    <tr>\n",
       "      <th>36</th>\n",
       "      <td>boolean_account_worst_status_0_3m</td>\n",
       "      <td>28</td>\n",
       "      <td>33</td>\n",
       "    </tr>\n",
       "    <tr>\n",
       "      <th>37</th>\n",
       "      <td>boolean_account_worst_status_12_24m</td>\n",
       "      <td>29</td>\n",
       "      <td>18</td>\n",
       "    </tr>\n",
       "    <tr>\n",
       "      <th>38</th>\n",
       "      <td>has_paid</td>\n",
       "      <td>30</td>\n",
       "      <td>31</td>\n",
       "    </tr>\n",
       "    <tr>\n",
       "      <th>39</th>\n",
       "      <td>account_days_in_term_12_24m</td>\n",
       "      <td>31</td>\n",
       "      <td>16</td>\n",
       "    </tr>\n",
       "    <tr>\n",
       "      <th>40</th>\n",
       "      <td>recovery_debt</td>\n",
       "      <td>32</td>\n",
       "      <td>1</td>\n",
       "    </tr>\n",
       "    <tr>\n",
       "      <th>41</th>\n",
       "      <td>boolean_status_max_archived_0_12_months</td>\n",
       "      <td>33</td>\n",
       "      <td>29</td>\n",
       "    </tr>\n",
       "    <tr>\n",
       "      <th>42</th>\n",
       "      <td>boolean_status_max_archived_0_24_months</td>\n",
       "      <td>34</td>\n",
       "      <td>8</td>\n",
       "    </tr>\n",
       "    <tr>\n",
       "      <th>43</th>\n",
       "      <td>account_days_in_dc_12_24m</td>\n",
       "      <td>35</td>\n",
       "      <td>4</td>\n",
       "    </tr>\n",
       "    <tr>\n",
       "      <th>44</th>\n",
       "      <td>boolean_status_last_archived_0_24m</td>\n",
       "      <td>36</td>\n",
       "      <td>24</td>\n",
       "    </tr>\n",
       "  </tbody>\n",
       "</table>\n",
       "</div>"
      ],
      "text/plain": [
       "                                    feature  cb  log\n",
       "0                                       age   1    5\n",
       "1                        max_paid_inv_0_24m   1    1\n",
       "2            sum_capital_paid_account_0_12m   1    1\n",
       "3                          num_unpaid_bills   1    3\n",
       "4           status_max_archived_0_24_months   1   10\n",
       "5                        sum_paid_inv_0_12m   1    7\n",
       "6                         num_arch_ok_0_12m   1    1\n",
       "7       account_incoming_debt_vs_paid_0_24m   1   36\n",
       "8                        new_merchant_group   1   13\n",
       "9                        num_arch_ok_12_24m   1    1\n",
       "10                account_worst_status_0_3m   2    2\n",
       "11   boolean_status_max_archived_0_6_months   3   28\n",
       "12                       max_paid_inv_0_12m   4    1\n",
       "13                  worst_status_active_inv   5   22\n",
       "14           status_max_archived_0_6_months   6   35\n",
       "15          sum_capital_paid_account_12_24m   7   23\n",
       "16                           num_active_inv   8    1\n",
       "17               status_last_archived_0_24m   9    6\n",
       "18           status_3rd_last_archived_0_24m  10   14\n",
       "19               account_days_in_rem_12_24m  11   21\n",
       "20           status_2nd_last_archived_0_24m  12   19\n",
       "21                account_worst_status_3_6m  13   26\n",
       "22              account_amount_added_12_24m  14   32\n",
       "23          status_max_archived_0_12_months  15   30\n",
       "24          boolean_worst_status_active_inv  16   34\n",
       "25               account_worst_status_6_12m  17   11\n",
       "26                           account_status  18    9\n",
       "27                       num_arch_rem_0_12m  19    1\n",
       "28   boolean_status_3rd_last_archived_0_24m  20   15\n",
       "29              account_worst_status_12_24m  21   17\n",
       "30                       num_arch_dc_12_24m  22    1\n",
       "31   boolean_status_2nd_last_archived_0_24m  23   20\n",
       "32                        num_arch_dc_0_12m  24    1\n",
       "33        boolean_account_worst_status_3_6m  25   25\n",
       "34       boolean_account_worst_status_6_12m  26   12\n",
       "35                   boolean_account_status  27   27\n",
       "36        boolean_account_worst_status_0_3m  28   33\n",
       "37      boolean_account_worst_status_12_24m  29   18\n",
       "38                                 has_paid  30   31\n",
       "39              account_days_in_term_12_24m  31   16\n",
       "40                            recovery_debt  32    1\n",
       "41  boolean_status_max_archived_0_12_months  33   29\n",
       "42  boolean_status_max_archived_0_24_months  34    8\n",
       "43                account_days_in_dc_12_24m  35    4\n",
       "44       boolean_status_last_archived_0_24m  36   24"
      ]
     },
     "execution_count": 12,
     "metadata": {},
     "output_type": "execute_result"
    }
   ],
   "source": [
    "df_rfe"
   ]
  },
  {
   "cell_type": "markdown",
   "id": "af26df9d",
   "metadata": {},
   "source": [
    "# Iterative Feature Reduction"
   ]
  },
  {
   "cell_type": "markdown",
   "id": "54aabaf5",
   "metadata": {},
   "source": [
    "In this part, I reduced features one-by-one using feature importance, logistic regression weights and RFE ranking. We have to remember that the boolean variables added in the exploratory analysis part get the lowest feature importances. However, they can get large weights in Logistic regression model. The categorical parameters need to be dropped with corresponding boolean variables. In that way, Logistic regression and Catboost models give comparable results.     "
   ]
  },
  {
   "cell_type": "code",
   "execution_count": 8,
   "id": "b1de4ed9",
   "metadata": {},
   "outputs": [],
   "source": [
    "df_tmp = df.drop([\n",
    "        'boolean_status_max_archived_0_24_months',\n",
    "        'account_incoming_debt_vs_paid_0_24m',\n",
    "        'has_paid',\n",
    "        'boolean_account_status',\n",
    "        'account_status',\n",
    "        'account_amount_added_12_24m',\n",
    "         'boolean_status_max_archived_0_6_months',\n",
    "         'status_max_archived_0_6_months',\n",
    "         'boolean_worst_status_active_inv',\n",
    "        'account_worst_status_12_24m',\n",
    "        'boolean_account_worst_status_12_24m',\n",
    "        'account_days_in_dc_12_24m',\n",
    "        'num_arch_ok_12_24m',\n",
    "        'status_max_archived_0_24_months',\n",
    "        'status_max_archived_0_12_months',\n",
    "        'boolean_status_max_archived_0_12_months',\n",
    "        'status_3rd_last_archived_0_24m',\n",
    "        'boolean_status_3rd_last_archived_0_24m',\n",
    "        'worst_status_active_inv',\n",
    "        'boolean_worst_status_active_inv',\n",
    "        'recovery_debt',\n",
    "        'status_2nd_last_archived_0_24m',\n",
    "        'boolean_status_2nd_last_archived_0_24m',\n",
    "        'sum_capital_paid_account_12_24m',\n",
    "        'account_days_in_term_12_24m',\n",
    "        'num_arch_dc_12_24m',\n",
    "        'account_days_in_rem_12_24m',\n",
    "        'account_worst_status_3_6m',\n",
    "        'boolean_account_worst_status_3_6m',\n",
    "        'num_arch_ok_0_12m',\n",
    "        'num_active_inv',\n",
    "        'boolean_account_worst_status_6_12m',\n",
    "        'account_worst_status_6_12m'\n",
    "        ],1)"
   ]
  },
  {
   "cell_type": "code",
   "execution_count": 9,
   "id": "ae321886",
   "metadata": {},
   "outputs": [],
   "source": [
    "X = df_tmp.drop('default', axis=1)\n",
    "y = df_tmp.default\n",
    "columns = X.columns.tolist()\n",
    "\n",
    "X_train, X_test, y_train, y_test = train_test_split(X, y, test_size=0.3,random_state=42,stratify=y)\n",
    "\n",
    "scaler = MinMaxScaler()\n",
    "scaler.fit(X_train)\n",
    "\n",
    "X_train_mm = scaler.transform(X_train)\n",
    "X_test_mm = scaler.transform(X_test)\n",
    "X_mm = scaler.transform(X)\n",
    "\n",
    "X_train = pd.DataFrame(X_train_mm, columns=columns)\n",
    "X_test = pd.DataFrame(X_test_mm, columns=columns)\n",
    "X = pd.DataFrame(X_mm, columns=columns)"
   ]
  },
  {
   "cell_type": "code",
   "execution_count": 10,
   "id": "5b23c396",
   "metadata": {},
   "outputs": [
    {
     "data": {
      "text/plain": [
       "<catboost.core.CatBoostClassifier at 0x7febc916c590>"
      ]
     },
     "execution_count": 10,
     "metadata": {},
     "output_type": "execute_result"
    }
   ],
   "source": [
    "cgb = CatBoostClassifier(border_count=70,\n",
    "        class_weights={0.0: 1.0, 1.0: 1.0},\n",
    "        depth=10, iterations=1000,    \n",
    "        l2_leaf_reg = 30,\n",
    "        learning_rate = 0.01,\n",
    "        loss_function='Logloss',\n",
    "        verbose=0)\n",
    "\n",
    "cgb.fit(X_train, y_train)"
   ]
  },
  {
   "cell_type": "code",
   "execution_count": 11,
   "id": "45a51a61",
   "metadata": {},
   "outputs": [
    {
     "data": {
      "text/plain": [
       "LogisticRegression(C=10.0, penalty='l1', random_state=41, solver='liblinear')"
      ]
     },
     "execution_count": 11,
     "metadata": {},
     "output_type": "execute_result"
    }
   ],
   "source": [
    "logreg = LogisticRegression(penalty='l1',C=10.0,verbose=0,max_iter=100,\n",
    "    class_weight=None, random_state=41, solver='liblinear')\n",
    "\n",
    "logreg.fit(X_train,y_train)"
   ]
  },
  {
   "cell_type": "markdown",
   "id": "1f1c7410",
   "metadata": {},
   "source": [
    "Roc curves for test and training datasets are shown below. The results look reasonable. CatBoost Model slightly overfit. Due to statistical uncertainty, the logistic regression got higher value for testing dataset. "
   ]
  },
  {
   "cell_type": "code",
   "execution_count": 22,
   "id": "7b24b117",
   "metadata": {},
   "outputs": [
    {
     "data": {
      "image/png": "[encoded data removed]",
      "text/plain": [
       "<Figure size 720x504 with 1 Axes>"
      ]
     },
     "metadata": {
      "needs_background": "light"
     },
     "output_type": "display_data"
    }
   ],
   "source": [
    "import utils\n",
    "roc_test=utils.plot_RocCurve_models(X_test, y_test, [logreg,cgb],\\\n",
    "                [\"LOGREG - TEST\",\"CATBOOST - TEST\"] )"
   ]
  },
  {
   "cell_type": "code",
   "execution_count": 23,
   "id": "e3c9ca77",
   "metadata": {},
   "outputs": [
    {
     "data": {
      "image/png": "[encoded data removed]",
      "text/plain": [
       "<Figure size 720x504 with 1 Axes>"
      ]
     },
     "metadata": {
      "needs_background": "light"
     },
     "output_type": "display_data"
    }
   ],
   "source": [
    "roc_train=utils.plot_RocCurve_models(X_train, y_train, [logreg,cgb],\\\n",
    "                [\"LOGREG - TRAIN\",\"CATBOOST - TRAIN\"]) "
   ]
  },
  {
   "cell_type": "code",
   "execution_count": 14,
   "id": "eef300f0",
   "metadata": {},
   "outputs": [
    {
     "name": "stdout",
     "output_type": "stream",
     "text": [
      "Feature ranking:\n",
      "1. feature sum_paid_inv_0_12m (14.985447)\n",
      "2. feature age (12.133187)\n",
      "3. feature new_merchant_group (11.363389)\n",
      "4. feature status_last_archived_0_24m (9.602837)\n",
      "5. feature num_unpaid_bills (8.634415)\n",
      "6. feature account_worst_status_0_3m (8.177345)\n",
      "7. feature max_paid_inv_0_24m (7.683158)\n",
      "8. feature sum_capital_paid_account_0_12m (7.162321)\n",
      "9. feature max_paid_inv_0_12m (6.036980)\n",
      "10. feature boolean_account_worst_status_0_3m (4.895443)\n",
      "11. feature num_arch_rem_0_12m (4.028433)\n",
      "12. feature num_arch_dc_0_12m (2.955166)\n",
      "13. feature boolean_status_last_archived_0_24m (2.341879)\n"
     ]
    },
    {
     "data": {
      "image/png": "[encoded data removed]",
      "text/plain": [
       "<Figure size 1080x360 with 1 Axes>"
      ]
     },
     "metadata": {
      "needs_background": "light"
     },
     "output_type": "display_data"
    }
   ],
   "source": [
    "df_features_cb = utils.plot_feature_importance(cgb,X)"
   ]
  },
  {
   "cell_type": "markdown",
   "id": "057a8ced",
   "metadata": {},
   "source": [
    "# Gridsearch Hyper-Parameters"
   ]
  },
  {
   "cell_type": "markdown",
   "id": "9ea67248",
   "metadata": {},
   "source": [
    "In this section, we are showing hyperparameter tuning. I did hyperparameter tuning with both roc_auc_score and brier loss score since our final goal is to predict probability. Usually, I do RandomizedSearchCV first and then, do GridSearch when I am working on big datasets. In this case, i mostly did GridSearch. "
   ]
  },
  {
   "cell_type": "markdown",
   "id": "a8e9b930",
   "metadata": {},
   "source": [
    "## Logistic Regression"
   ]
  },
  {
   "cell_type": "markdown",
   "id": "23719132",
   "metadata": {},
   "source": [
    "### Logistic Regression with RocAUC"
   ]
  },
  {
   "cell_type": "code",
   "execution_count": 16,
   "id": "b84addee",
   "metadata": {},
   "outputs": [],
   "source": [
    "kf = StratifiedKFold(n_splits=3,shuffle=True,random_state=42)"
   ]
  },
  {
   "cell_type": "code",
   "execution_count": 18,
   "id": "edcf664c",
   "metadata": {},
   "outputs": [],
   "source": [
    "logit = LogisticRegression(penalty='l2', C=1, solver='liblinear', class_weight='balanced', max_iter=3000, \n",
    "                           random_state=8)\n",
    "\n",
    "logit_gs_params = {'penalty':['l1', 'l2'],\n",
    "                   'solver': ['liblinear'],\n",
    "                   'C': [0.001, 0.01, 0.1, 1, 10],\n",
    "                   'class_weight':[{0.0: 0.5072586328400281, 1.0: 34.94174757281554},\n",
    "                    {0.0: 1.0, 1.0: 20.0},{0.0: 1.0, 1.0: 10.0},{0.0: 1.0, 1.0: 1.0}],\n",
    "                  }"
   ]
  },
  {
   "cell_type": "code",
   "execution_count": 19,
   "id": "9c64f29b",
   "metadata": {},
   "outputs": [
    {
     "name": "stdout",
     "output_type": "stream",
     "text": [
      "Fitting 3 folds for each of 40 candidates, totalling 120 fits\n"
     ]
    }
   ],
   "source": [
    "gs_logit = GridSearchCV(logit, logit_gs_params, scoring='roc_auc',refit=True, cv=kf, verbose=2, n_jobs=-1)\n",
    "gs_logit = gs_logit.fit(X_train, y_train)"
   ]
  },
  {
   "cell_type": "code",
   "execution_count": 20,
   "id": "d942e4d5",
   "metadata": {},
   "outputs": [
    {
     "data": {
      "text/plain": [
       "{'C': 10,\n",
       " 'class_weight': {0.0: 0.5072586328400281, 1.0: 34.94174757281554},\n",
       " 'penalty': 'l1',\n",
       " 'solver': 'liblinear'}"
      ]
     },
     "execution_count": 20,
     "metadata": {},
     "output_type": "execute_result"
    }
   ],
   "source": [
    "gs_logit.best_params_"
   ]
  },
  {
   "cell_type": "code",
   "execution_count": 21,
   "id": "6167c84f",
   "metadata": {},
   "outputs": [
    {
     "data": {
      "text/plain": [
       "0.8689559161066897"
      ]
     },
     "execution_count": 21,
     "metadata": {},
     "output_type": "execute_result"
    }
   ],
   "source": [
    "gs_logit.best_score_"
   ]
  },
  {
   "cell_type": "code",
   "execution_count": 53,
   "id": "89b13091",
   "metadata": {},
   "outputs": [
    {
     "name": "stdout",
     "output_type": "stream",
     "text": [
      "Fitting 3 folds for each of 40 candidates, totalling 120 fits\n"
     ]
    }
   ],
   "source": [
    "logit = LogisticRegression(penalty='l2', C=1, solver='liblinear', class_weight='balanced', max_iter=3000, \n",
    "                           random_state=8)\n",
    "\n",
    "gs_logit = GridSearchCV(logit, logit_gs_params, scoring='neg_brier_score',refit=True, cv=kf, verbose=2, n_jobs=-1)\n",
    "gs_logit = gs_logit.fit(X_train, y_train)"
   ]
  },
  {
   "cell_type": "code",
   "execution_count": 54,
   "id": "e51d646f",
   "metadata": {},
   "outputs": [
    {
     "data": {
      "text/plain": [
       "{'C': 1,\n",
       " 'class_weight': {0.0: 1.0, 1.0: 1.0},\n",
       " 'penalty': 'l2',\n",
       " 'solver': 'liblinear'}"
      ]
     },
     "execution_count": 54,
     "metadata": {},
     "output_type": "execute_result"
    }
   ],
   "source": [
    "gs_logit.best_params_"
   ]
  },
  {
   "cell_type": "code",
   "execution_count": 56,
   "id": "8091d5ab",
   "metadata": {},
   "outputs": [
    {
     "name": "stdout",
     "output_type": "stream",
     "text": [
      "-0.01345965922223246\n"
     ]
    }
   ],
   "source": [
    "print(gs_logit.best_score_)"
   ]
  },
  {
   "cell_type": "markdown",
   "id": "83348dee",
   "metadata": {},
   "source": [
    "## CatBoost"
   ]
  },
  {
   "cell_type": "markdown",
   "id": "366c8770",
   "metadata": {},
   "source": [
    "### Grid Search With RocAUC"
   ]
  },
  {
   "cell_type": "code",
   "execution_count": 33,
   "id": "f2d196cb",
   "metadata": {},
   "outputs": [],
   "source": [
    "params = {'depth':[3,1,2,6,4,5,7,8,9,10],\n",
    "          'iterations':[250,100,500,1000],\n",
    "          'learning_rate':[0.03,0.001,0.01,0.1,0.2,0.3], \n",
    "          'l2_leaf_reg':[3,1,5,10,100],\n",
    "          'border_count':[32,5,10,20,50,100,200]\n",
    "         }"
   ]
  },
  {
   "cell_type": "code",
   "execution_count": 36,
   "id": "08ed2a0f",
   "metadata": {},
   "outputs": [
    {
     "data": {
      "text/plain": [
       "{0.0: 0.5072647025660025, 1.0: 34.9129711751663}"
      ]
     },
     "execution_count": 36,
     "metadata": {},
     "output_type": "execute_result"
    }
   ],
   "source": [
    "from sklearn.utils.class_weight import compute_class_weight\n",
    " \n",
    "classes = np.unique(y_train)\n",
    "weights = compute_class_weight(class_weight='balanced', classes=classes, y=y_train)\n",
    "class_weights = dict(zip(classes, weights))\n",
    "class_weights"
   ]
  },
  {
   "cell_type": "code",
   "execution_count": 41,
   "id": "59c5ad0b",
   "metadata": {},
   "outputs": [
    {
     "name": "stdout",
     "output_type": "stream",
     "text": [
      "CPU times: user 35 s, sys: 8.29 s, total: 43.3 s\n",
      "Wall time: 1min 22s\n"
     ]
    },
    {
     "data": {
      "text/plain": [
       "RandomizedSearchCV(cv=3,\n",
       "                   estimator=<catboost.core.CatBoostClassifier object at 0x7f9fc63f9150>,\n",
       "                   n_iter=20, n_jobs=-1,\n",
       "                   param_distributions={'border_count': [32, 5, 10, 20, 50, 100,\n",
       "                                                         200],\n",
       "                                        'depth': [3, 1, 2, 6, 4, 5, 7, 8, 9,\n",
       "                                                  10],\n",
       "                                        'iterations': [250, 100, 500, 1000],\n",
       "                                        'l2_leaf_reg': [3, 1, 5, 10, 100],\n",
       "                                        'learning_rate': [0.03, 0.001, 0.01,\n",
       "                                                          0.1, 0.2, 0.3]},\n",
       "                   random_state=1001, scoring='roc_auc')"
      ]
     },
     "execution_count": 41,
     "metadata": {},
     "output_type": "execute_result"
    }
   ],
   "source": [
    "%%time\n",
    "\n",
    "gbm = CatBoostClassifier(\n",
    "    class_weights=class_weights,verbose=False)\n",
    "\n",
    "random_search = RandomizedSearchCV(gbm, param_distributions=params, n_iter=20, \\\n",
    "    scoring=\"roc_auc\",n_jobs=-1,cv=3, random_state=1001 )\n",
    "\n",
    "random_search.fit(X_train, y_train)"
   ]
  },
  {
   "cell_type": "code",
   "execution_count": 42,
   "id": "e5b00c6d",
   "metadata": {},
   "outputs": [
    {
     "name": "stdout",
     "output_type": "stream",
     "text": [
      "\n",
      " Best scoring:\n",
      "0.8978886198146\n",
      "\n",
      " Best hyperparameters:\n",
      "{'learning_rate': 0.03, 'l2_leaf_reg': 100, 'iterations': 250, 'depth': 8, 'border_count': 10}\n"
     ]
    }
   ],
   "source": [
    "print('\\n Best scoring:')\n",
    "print(random_search.best_score_ )\n",
    "print('\\n Best hyperparameters:')\n",
    "print(random_search.best_params_)"
   ]
  },
  {
   "cell_type": "code",
   "execution_count": 58,
   "id": "3b45294e",
   "metadata": {},
   "outputs": [],
   "source": [
    "params_grid = {'depth':[7],\n",
    "          'iterations':[1000],\n",
    "          'learning_rate':[0.01], \n",
    "          'class_weights':[{0.0: 0.5072586328400281, 1.0: 34.94174757281554},{0.0: 1.0, 1.0: 10.0},{0.0: 1.0, 1.0: 1.0}],\n",
    "          'l2_leaf_reg':[100,200,300],\n",
    "          'border_count':[30,50,100],\n",
    "            'loss_function': ['Logloss','CrossEntropy'],\n",
    "         }"
   ]
  },
  {
   "cell_type": "code",
   "execution_count": 59,
   "id": "16f73ea3",
   "metadata": {},
   "outputs": [
    {
     "name": "stdout",
     "output_type": "stream",
     "text": [
      "CPU times: user 1min 50s, sys: 21.7 s, total: 2min 12s\n",
      "Wall time: 4min 47s\n"
     ]
    },
    {
     "data": {
      "text/plain": [
       "GridSearchCV(cv=3,\n",
       "             estimator=<catboost.core.CatBoostClassifier object at 0x7f9fc6c8f610>,\n",
       "             n_jobs=-1,\n",
       "             param_grid={'border_count': [30, 50, 100],\n",
       "                         'class_weights': [{0.0: 0.5072586328400281,\n",
       "                                            1.0: 34.94174757281554},\n",
       "                                           {0.0: 1.0, 1.0: 10.0},\n",
       "                                           {0.0: 1.0, 1.0: 1.0}],\n",
       "                         'depth': [7], 'iterations': [1000],\n",
       "                         'l2_leaf_reg': [100, 200, 300],\n",
       "                         'learning_rate': [0.01],\n",
       "                         'loss_function': ['Logloss']},\n",
       "             scoring='roc_auc', verbose=False)"
      ]
     },
     "execution_count": 59,
     "metadata": {},
     "output_type": "execute_result"
    }
   ],
   "source": [
    "%%time\n",
    "\n",
    "gbm = CatBoostClassifier(class_weights=class_weights,verbose=False)\n",
    "\n",
    "grid_clf = GridSearchCV(gbm, param_grid=params_grid,\\\n",
    "    scoring=\"roc_auc\",n_jobs=-1,cv=3, verbose=False)\n",
    "\n",
    "grid_clf.fit(X_train, y_train)"
   ]
  },
  {
   "cell_type": "code",
   "execution_count": 60,
   "id": "4a4150ad",
   "metadata": {},
   "outputs": [
    {
     "data": {
      "text/plain": [
       "{'border_count': 50,\n",
       " 'class_weights': {0.0: 1.0, 1.0: 10.0},\n",
       " 'depth': 7,\n",
       " 'iterations': 1000,\n",
       " 'l2_leaf_reg': 100,\n",
       " 'learning_rate': 0.01,\n",
       " 'loss_function': 'Logloss'}"
      ]
     },
     "execution_count": 60,
     "metadata": {},
     "output_type": "execute_result"
    }
   ],
   "source": [
    "grid_clf.best_params_"
   ]
  },
  {
   "cell_type": "markdown",
   "id": "9a750c9c",
   "metadata": {},
   "source": [
    "### GridSearch with Brier Loss score"
   ]
  },
  {
   "cell_type": "code",
   "execution_count": 68,
   "id": "06da5316",
   "metadata": {},
   "outputs": [],
   "source": [
    "params_grid = {'depth':[7],\n",
    "          'iterations':[1000],\n",
    "          'learning_rate':[0.01], \n",
    "          'class_weights':[{0.0: 1.0, 1.0: 10.0},{0.0: 1.0, 1.0: 5.0},{0.0: 1.0, 1.0: 3.0},{0.0: 1.0, 1.0: 2.0}],\n",
    "          'l2_leaf_reg':[30,50,100],\n",
    "          'border_count':[30,50,70],\n",
    "            'loss_function': ['Logloss'],\n",
    "         }"
   ]
  },
  {
   "cell_type": "code",
   "execution_count": 69,
   "id": "5ab38109",
   "metadata": {},
   "outputs": [
    {
     "name": "stdout",
     "output_type": "stream",
     "text": [
      "CPU times: user 1min 46s, sys: 22.1 s, total: 2min 8s\n",
      "Wall time: 6min 14s\n"
     ]
    },
    {
     "data": {
      "text/plain": [
       "GridSearchCV(cv=3,\n",
       "             estimator=<catboost.core.CatBoostClassifier object at 0x7f9fd5bdbcd0>,\n",
       "             n_jobs=-1,\n",
       "             param_grid={'border_count': [30, 50, 70],\n",
       "                         'class_weights': [{0.0: 1.0, 1.0: 10.0},\n",
       "                                           {0.0: 1.0, 1.0: 5.0},\n",
       "                                           {0.0: 1.0, 1.0: 3.0},\n",
       "                                           {0.0: 1.0, 1.0: 2.0}],\n",
       "                         'depth': [7], 'iterations': [1000],\n",
       "                         'l2_leaf_reg': [30, 50, 100], 'learning_rate': [0.01],\n",
       "                         'loss_function': ['Logloss']},\n",
       "             scoring='neg_brier_score', verbose=False)"
      ]
     },
     "execution_count": 69,
     "metadata": {},
     "output_type": "execute_result"
    }
   ],
   "source": [
    "%%time\n",
    "\n",
    "gbm = CatBoostClassifier(class_weights=class_weights,verbose=False)\n",
    "\n",
    "grid_clf = GridSearchCV(gbm, param_grid=params_grid,\\\n",
    "    scoring=\"neg_brier_score\",n_jobs=-1,cv=3, verbose=False)\n",
    "\n",
    "grid_clf.fit(X_train, y_train)"
   ]
  },
  {
   "cell_type": "code",
   "execution_count": 70,
   "id": "f9b605e2",
   "metadata": {},
   "outputs": [
    {
     "data": {
      "text/plain": [
       "{'border_count': 70,\n",
       " 'class_weights': {0.0: 1.0, 1.0: 2.0},\n",
       " 'depth': 7,\n",
       " 'iterations': 1000,\n",
       " 'l2_leaf_reg': 30,\n",
       " 'learning_rate': 0.01,\n",
       " 'loss_function': 'Logloss'}"
      ]
     },
     "execution_count": 70,
     "metadata": {},
     "output_type": "execute_result"
    }
   ],
   "source": [
    "grid_clf.best_params_"
   ]
  },
  {
   "cell_type": "code",
   "execution_count": 75,
   "id": "c0d822bc",
   "metadata": {},
   "outputs": [],
   "source": [
    "params_grid = {'depth':[7],\n",
    "          'iterations':[1000],\n",
    "          'learning_rate':[0.01], \n",
    "          'class_weights':[{0.0: 0.5072586328400281, 1.0: 34.94174757281554},{0.0: 1.0, 1.0: 10.0}],\n",
    "          'l2_leaf_reg':[30,50,100],\n",
    "          'border_count':[30,50,70],\n",
    "            'loss_function': ['Logloss'],\n",
    "         }"
   ]
  },
  {
   "cell_type": "code",
   "execution_count": 76,
   "id": "be4b6305",
   "metadata": {},
   "outputs": [
    {
     "name": "stdout",
     "output_type": "stream",
     "text": [
      "CPU times: user 1min 44s, sys: 22.2 s, total: 2min 7s\n",
      "Wall time: 3min 16s\n"
     ]
    },
    {
     "data": {
      "text/plain": [
       "GridSearchCV(cv=3,\n",
       "             estimator=<catboost.core.CatBoostClassifier object at 0x7f9fd5ca2210>,\n",
       "             n_jobs=-1,\n",
       "             param_grid={'border_count': [30, 50, 70],\n",
       "                         'class_weights': [{0.0: 0.5072586328400281,\n",
       "                                            1.0: 34.94174757281554},\n",
       "                                           {0.0: 1.0, 1.0: 10.0}],\n",
       "                         'depth': [7], 'iterations': [1000],\n",
       "                         'l2_leaf_reg': [30, 50, 100], 'learning_rate': [0.01],\n",
       "                         'loss_function': ['Logloss']},\n",
       "             scoring='roc_auc', verbose=False)"
      ]
     },
     "execution_count": 76,
     "metadata": {},
     "output_type": "execute_result"
    }
   ],
   "source": [
    "%%time\n",
    "\n",
    "gbm = CatBoostClassifier(class_weights=class_weights,verbose=False)\n",
    "\n",
    "grid_clf = GridSearchCV(gbm, param_grid=params_grid,\\\n",
    "    scoring=\"roc_auc\",n_jobs=-1,cv=3, verbose=False)\n",
    "\n",
    "grid_clf.fit(X_train, y_train)"
   ]
  },
  {
   "cell_type": "code",
   "execution_count": 77,
   "id": "15b5efc8",
   "metadata": {},
   "outputs": [
    {
     "data": {
      "text/plain": [
       "{'border_count': 50,\n",
       " 'class_weights': {0.0: 1.0, 1.0: 10.0},\n",
       " 'depth': 7,\n",
       " 'iterations': 1000,\n",
       " 'l2_leaf_reg': 50,\n",
       " 'learning_rate': 0.01,\n",
       " 'loss_function': 'Logloss'}"
      ]
     },
     "execution_count": 77,
     "metadata": {},
     "output_type": "execute_result"
    }
   ],
   "source": [
    "grid_clf.best_params_"
   ]
  },
  {
   "cell_type": "code",
   "execution_count": null,
   "id": "36018178",
   "metadata": {},
   "outputs": [],
   "source": []
  },
  {
   "cell_type": "code",
   "execution_count": null,
   "id": "d8a7d1cd",
   "metadata": {},
   "outputs": [],
   "source": []
  }
 ],
 "metadata": {
  "hide_input": true,
  "kernelspec": {
   "display_name": "tensorflow24_py37",
   "language": "python",
   "name": "tensorflow24_py37"
  },
  "language_info": {
   "codemirror_mode": {
    "name": "ipython",
    "version": 3
   },
   "file_extension": ".py",
   "mimetype": "text/x-python",
   "name": "python",
   "nbconvert_exporter": "python",
   "pygments_lexer": "ipython3",
   "version": "3.7.11"
  }
 },
 "nbformat": 4,
 "nbformat_minor": 5
}
